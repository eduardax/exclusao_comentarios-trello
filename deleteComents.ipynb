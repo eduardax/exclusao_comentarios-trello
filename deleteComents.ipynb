{
 "cells": [
  {
   "cell_type": "code",
   "execution_count": null,
   "id": "b4386959-7962-4c71-a0d7-04246eac76b0",
   "metadata": {},
   "outputs": [],
   "source": [
    "pip install selenium pandas webdriver-manager chromium-chromedriver"
   ]
  },
  {
   "cell_type": "code",
   "execution_count": 4,
   "id": "4bf35a6b",
   "metadata": {},
   "outputs": [],
   "source": [
    "from selenium import webdriver\n",
    "from selenium.webdriver.common.by import By\n",
    "from selenium.webdriver.common.keys import Keys\n",
    "from selenium.webdriver.support.ui import WebDriverWait\n",
    "from selenium.webdriver.support import expected_conditions as EC\n",
    "from selenium.webdriver.common.action_chains import ActionChains\n",
    "import time\n",
    "\n",
    "options = webdriver.ChromeOptions()\n",
    "#options.add_argument('--headless')\n",
    "\n",
    "\n",
    "driver = webdriver.Chrome(options=options)\n",
    "\n",
    "driver.get(\"https://trello.com/login\")\n",
    "\n",
    "time.sleep(10) \n",
    "email_input = driver.find_element(By.ID, \"username\")\n",
    "email_input.send_keys(\"email@email.com\") \n",
    "email_input.send_keys(Keys.RETURN)\n",
    "\n",
    "time.sleep(10)\n",
    "\n",
    "password_input = driver.find_element(By.ID, \"password\")\n",
    "password_input.send_keys(\"password\")\n",
    "password_input.send_keys(Keys.RETURN)\n",
    "\n",
    "driver.get(\"https://trello.com/c/D1opORge/card\")"
   ]
  },
  {
   "cell_type": "code",
   "execution_count": null,
   "id": "8613246e",
   "metadata": {},
   "outputs": [],
   "source": [
    "time.sleep(15)\n",
    "\n",
    "comentario_especifico = \"Estarei fora entre os dias 20/12/2024 a 02/01/2025. \"\n",
    "\n",
    "comentarios = driver.find_elements(By.CSS_SELECTOR, \".X8WOA764yXoFYj\")\n",
    "\n",
    "for comentario in comentarios:\n",
    "    print(comentario.find_element)\n",
    "    try:\n",
    "\n",
    "        if comentario_especifico in comentario.text:\n",
    "\n",
    "            botao_excluir = comentario.find_element(By.XPATH, '//div[@class=\"PxL_3a0PSiOjGx\"]//a[text()=\"Excluir\"]')\n",
    "            botao_excluir.click()\n",
    "\n",
    "            WebDriverWait(driver, 20).until(\n",
    "                            EC.presence_of_element_located((By.XPATH, '//h2[text()=\"Excluir Comentário?\"]'))\n",
    "            )\n",
    "            \n",
    "            botao_excluir_comentario = driver.find_element(By.XPATH, '//button[text()=\"Excluir Comentário\"]')\n",
    "            botao_excluir_comentario.click()\n",
    "\n",
    "            print(\"Comentário excluído com sucesso!\")\n",
    "            time.sleep(5)  \n",
    "    except Exception as e:\n",
    "        print(f\"Erro ao excluir comentário: {e}\")\n",
    "\n",
    "\n",
    "time.sleep(5)\n",
    "driver.quit()\n"
   ]
  }
 ],
 "metadata": {
  "kernelspec": {
   "display_name": "Python 3",
   "language": "python",
   "name": "python3"
  },
  "language_info": {
   "codemirror_mode": {
    "name": "ipython",
    "version": 3
   },
   "file_extension": ".py",
   "mimetype": "text/x-python",
   "name": "python",
   "nbconvert_exporter": "python",
   "pygments_lexer": "ipython3",
   "version": "3.13.1"
  }
 },
 "nbformat": 4,
 "nbformat_minor": 5
}
